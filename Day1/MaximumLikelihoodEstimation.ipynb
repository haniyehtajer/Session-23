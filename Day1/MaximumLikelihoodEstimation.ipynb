{
 "cells": [
  {
   "cell_type": "code",
   "execution_count": 1,
   "id": "c46e6a02",
   "metadata": {
    "editable": true,
    "slideshow": {
     "slide_type": ""
    },
    "tags": []
   },
   "outputs": [],
   "source": [
    "import numpy as np\n",
    "import matplotlib.pyplot as plt\n",
    "from scipy.optimize import minimize"
   ]
  },
  {
   "cell_type": "code",
   "execution_count": 9,
   "id": "b3bc37cb",
   "metadata": {},
   "outputs": [],
   "source": [
    "%matplotlib notebook\n",
    "%matplotlib inline"
   ]
  },
  {
   "cell_type": "markdown",
   "id": "5a8a9c8c",
   "metadata": {},
   "source": [
    "# Maximum Likelihood Estimation\n",
    "\n",
    "-----\n",
    "*Version 0.1*\n",
    "\n",
    "\n",
    "By AA Miller (Northwestern/CIERA)\n",
    "\n",
    "18 May 2025"
   ]
  },
  {
   "cell_type": "markdown",
   "id": "31b2bdf5",
   "metadata": {},
   "source": [
    "**Notebook summary and learning objectives**\n",
    "\n",
    "The lecture covered an introduction to frequentist statistics, in which it is assumed that model parameters are fixed constants that cannot change. The frequentist standard for estimating model parameters following the collection of observations is [maximum likelihood estimation](https://en.wikipedia.org/wiki/Maximum_likelihood_estimation). \n",
    "\n",
    "In this notebook you will learn to:  \n",
    "$~~~~~~~~$(1) calculate the likelihood for a set of observations with Gaussian uncertainties  \n",
    "$~~~~~~~~$(2) maximize the likelihood via numerical minimization of the negative log likelihood  \n",
    "$~~~~~~~~$(3) perform a bootstrap analysis to estimate uncertainties on the model parameters  \n",
    "$~~~~~~~~$(4) use different metrics to compare models and select the one that is \"best\"  \n",
    "$~~~~~~~~$(5) understand the limitations of gradient descent "
   ]
  },
  {
   "cell_type": "markdown",
   "id": "7ccaf88c",
   "metadata": {},
   "source": [
    "## Problem 0) Helper Functions\n",
    "\n",
    "We will need to make lots of plots of data and models throughout this notebook."
   ]
  },
  {
   "cell_type": "markdown",
   "id": "258b3051",
   "metadata": {},
   "source": [
    "**Problem 0a**\n",
    "\n",
    "Write a function `data_plot()` that creates and returns `matplotlib` figure and axes instances using [`plt.subplots`](https://matplotlib.org/stable/api/_as_gen/matplotlib.pyplot.subplots.html).\n",
    "\n",
    "The function should label the abcissa `x` and the ordinate `y`, and take optional arguments `x_obs`, `y_obs`, `y_obs_unc` that are plotted when provided by the user. "
   ]
  },
  {
   "cell_type": "code",
   "execution_count": 10,
   "id": "12ab4e8f",
   "metadata": {},
   "outputs": [],
   "source": [
    "def data_plot(x_obs=[], y_obs=[], y_obs_unc=[]):\n",
    "    \n",
    "    fig, ax = plt.subplots()\n",
    "    \n",
    "    if len(x_obs) > 0 and len(y_obs) > 0:\n",
    "        if len(y_obs_unc) > 0:\n",
    "            ax.errorbar(x_obs, y_obs, y_obs_unc, \n",
    "                        fmt='o', mec='RebeccaPurple', mfc='white', \n",
    "                        ecolor='RebeccaPurple')\n",
    "        else:\n",
    "            ax.errorbar(x_obs, y_obs, \n",
    "                        fmt='o', mec='RebeccaPurple', mfc='white')\n",
    "    \n",
    "    ax.set_xlabel('x') # complete\n",
    "    ax.set_ylabel('y') # complete\n",
    "\n",
    "    return fig, ax"
   ]
  },
  {
   "cell_type": "markdown",
   "id": "63629bf2",
   "metadata": {},
   "source": [
    "**Problem 0b**\n",
    "\n",
    "Using `np.random` simulate 15 observations that are drawn from a linear relation defined by $f(x) = 3.14\\,x + 6.626$. The observations should be collected over the range [0,10]. \n",
    "\n",
    "Assume that the observations are noisy, and the scatter is described by a Gaussian with variance = 9. "
   ]
  },
  {
   "cell_type": "code",
   "execution_count": 33,
   "id": "65319857",
   "metadata": {},
   "outputs": [],
   "source": [
    "n_obs = 15 # complete\n",
    "rng = np.random.default_rng(seed=2009)\n",
    "\n",
    "x_obs = rng.uniform(0, 10, n_obs)\n",
    "y_obs = rng.normal(3.14*x_obs + 6.626, 3)\n",
    "y_obs_unc = np.ones_like(y_obs)*3\n",
    "y_true = 3.14*x_obs + 6.626"
   ]
  },
  {
   "cell_type": "markdown",
   "id": "618bd2a9",
   "metadata": {},
   "source": [
    "**Problem 0c**\n",
    "\n",
    "Confirm your results from the previous two problems by using `data_plot()` to display the observations generated in **0b**."
   ]
  },
  {
   "cell_type": "code",
   "execution_count": 13,
   "id": "1effcf46",
   "metadata": {},
   "outputs": [
    {
     "data": {
      "image/png": "[encoded data removed]",
      "text/plain": [
       "<Figure size 640x480 with 1 Axes>"
      ]
     },
     "metadata": {},
     "output_type": "display_data"
    }
   ],
   "source": [
    "fig, ax = data_plot(x_obs, y_obs, y_obs_unc)# complete\n",
    "fig.tight_layout()"
   ]
  },
  {
   "cell_type": "markdown",
   "id": "f962d6e1",
   "metadata": {},
   "source": [
    "**Problem 0d**\n",
    "\n",
    "Confirm you can add to your figure instance by over-plotting the true relation used to generate the data.\n",
    "\n",
    "Did you get the Gaussian scatter correct? \n",
    "\n",
    "*Hint* – for Gaussian noise $\\sim$68% of the observations should be within 1-$\\sigma$ of the true relation."
   ]
  },
  {
   "cell_type": "code",
   "execution_count": 22,
   "id": "62a62b14",
   "metadata": {},
   "outputs": [],
   "source": [
    "std = np.std(y_obs)"
   ]
  },
  {
   "cell_type": "code",
   "execution_count": 25,
   "id": "adeda2f5",
   "metadata": {},
   "outputs": [
    {
     "data": {
      "text/plain": [
       "8.55160223500854"
      ]
     },
     "execution_count": 25,
     "metadata": {},
     "output_type": "execute_result"
    }
   ],
   "source": [
    "std"
   ]
  },
  {
   "cell_type": "code",
   "execution_count": 24,
   "id": "37af7b02",
   "metadata": {},
   "outputs": [
    {
     "name": "stderr",
     "output_type": "stream",
     "text": [
      "/var/folders/g0/fl404sj151l2v9xcdkjz9fq80000gn/T/ipykernel_12337/551242644.py:3: UserWarning: color is redundantly defined by the 'color' keyword argument and the fmt string \"0.2\" (-> color=(0.2, 0.2, 0.2, 1.0)). The keyword argument will take precedence.\n",
      "  ax.plot([0,10], [6.626 + std, 6.626 + 31.4 + std], '0.2', color = 'red')\n",
      "/var/folders/g0/fl404sj151l2v9xcdkjz9fq80000gn/T/ipykernel_12337/551242644.py:4: UserWarning: color is redundantly defined by the 'color' keyword argument and the fmt string \"0.2\" (-> color=(0.2, 0.2, 0.2, 1.0)). The keyword argument will take precedence.\n",
      "  ax.plot([0,10], [6.626 - std, 6.626 + 31.4 - std], '0.2', color = 'red')\n",
      "/var/folders/g0/fl404sj151l2v9xcdkjz9fq80000gn/T/ipykernel_12337/551242644.py:5: UserWarning: The figure layout has changed to tight\n",
      "  fig.tight_layout()\n"
     ]
    },
    {
     "data": {
      "image/png": "[encoded data removed]",
      "text/plain": [
       "<Figure size 640x480 with 1 Axes>"
      ]
     },
     "metadata": {},
     "output_type": "display_data"
    }
   ],
   "source": [
    "plt.figure(fig)\n",
    "ax.plot([0,10], [6.626, 6.626 + 31.4], '0.2')\n",
    "ax.plot([0,10], [6.626 + std, 6.626 + 31.4 + std], '0.2', color = 'red')\n",
    "ax.plot([0,10], [6.626 - std, 6.626 + 31.4 - std], '0.2', color = 'red')\n",
    "fig.tight_layout()\n",
    "plt.show()"
   ]
  },
  {
   "cell_type": "markdown",
   "id": "9235136e",
   "metadata": {},
   "source": [
    "*write your answer here*\n",
    "\n"
   ]
  },
  {
   "cell_type": "code",
   "execution_count": null,
   "id": "b572be46",
   "metadata": {},
   "outputs": [],
   "source": [
    "y_model = "
   ]
  },
  {
   "cell_type": "markdown",
   "id": "7622a699",
   "metadata": {},
   "source": [
    "## Problem 1) The likelihood\n",
    "\n",
    "As we saw in Lecture II, the likelihood is just the product of the probability of all the individual observations within a data set:\n",
    "\n",
    "$$\\mathcal{L} \\equiv \\prod p(x_i|\\mathcal{M}(\\theta))$$"
   ]
  },
  {
   "cell_type": "markdown",
   "id": "f468507c",
   "metadata": {},
   "source": [
    "Our aim is to identify model parameters $\\theta$ that *maximize* the likelihood. "
   ]
  },
  {
   "cell_type": "markdown",
   "id": "dfa21f93",
   "metadata": {},
   "source": [
    "**Probelm 1a**\n",
    "\n",
    "Write a function `model` with two input parameters, `theta` and `x`, where `theta` is a tuple with values $\\theta_0$ and $\\theta_1$, and the function returns $\\theta_0 + \\theta_1 x$.\n",
    "\n",
    "*Hint* – this is far more formal than necessary, but it will simplify other problems later in the notebook. "
   ]
  },
  {
   "cell_type": "code",
   "execution_count": 20,
   "id": "c3275c2d",
   "metadata": {},
   "outputs": [
    {
     "data": {
      "text/plain": [
       "1"
      ]
     },
     "execution_count": 20,
     "metadata": {},
     "output_type": "execute_result"
    }
   ],
   "source": [
    "theta = [1,2]\n",
    "theta0, theta1 = theta\n",
    "theta0"
   ]
  },
  {
   "cell_type": "code",
   "execution_count": 21,
   "id": "b10d92e1",
   "metadata": {},
   "outputs": [],
   "source": [
    "def model(theta, x):\n",
    "    '''\n",
    "    Return dependent variable values for f(x) = theta_0 + theta_1 x\n",
    "    \n",
    "    Parameters\n",
    "    ----------\n",
    "    theta : tuple (size=2)\n",
    "        theta[0] is the intercept and theta[1] is the slope of the line\n",
    "    \n",
    "    x : array-like\n",
    "        values of the independent variable where f(x) should be evaluated\n",
    "    '''\n",
    "    theta0, theta1 = theta# complete\n",
    "    y = theta0 + theta1 * x\n",
    "    \n",
    "    return y# complete"
   ]
  },
  {
   "cell_type": "markdown",
   "id": "9fbeafed",
   "metadata": {},
   "source": [
    "**Problem 1b**\n",
    "\n",
    "Write a function `prob` that calculates and returns the probability of observations `x` assuming that $p(x)$ follows a normal distribution with mean `mu` and standard deviation `sigma`. "
   ]
  },
  {
   "cell_type": "code",
   "execution_count": 26,
   "id": "a8a6a156",
   "metadata": {},
   "outputs": [],
   "source": [
    "def prob(x, mu, sigma):\n",
    "    p = (1/(np.sqrt(2 * np.pi * sigma**2))) * np.exp(-1 * (x - mu)**2/(2*sigma**2))\n",
    "    return p"
   ]
  },
  {
   "cell_type": "markdown",
   "id": "0512c054",
   "metadata": {},
   "source": [
    "**Problem 1c**\n",
    "\n",
    "Calculate the likelihood for the observations that were simulated in **0b**. Use the model parameters that generated the data. \n",
    "\n",
    "*Hint* – think carefully about your variable names. "
   ]
  },
  {
   "cell_type": "code",
   "execution_count": 40,
   "id": "5719fcc1",
   "metadata": {},
   "outputs": [
    {
     "name": "stdout",
     "output_type": "stream",
     "text": [
      "The likelihood for this data set is 2.03322667294441e-18\n"
     ]
    }
   ],
   "source": [
    "lkhd = 1# complete\n",
    "#mu = np.average(y_obs)\n",
    "sigma = 3\n",
    "mu = y_true\n",
    "\n",
    "for i in range(0, len(x_obs)):\n",
    "    lkhd = lkhd * prob(y_obs[i], y_true[i], 3)\n",
    "\n",
    "\n",
    "print(f'The likelihood for this data set is {lkhd}')"
   ]
  },
  {
   "cell_type": "code",
   "execution_count": 30,
   "id": "2a852636",
   "metadata": {},
   "outputs": [
    {
     "data": {
      "text/plain": [
       "6"
      ]
     },
     "execution_count": 30,
     "metadata": {},
     "output_type": "execute_result"
    }
   ],
   "source": [
    "a = [1,2,3]\n",
    "np.product(a)"
   ]
  },
  {
   "cell_type": "markdown",
   "id": "c32de6f0",
   "metadata": {},
   "source": [
    "That is a very small number! "
   ]
  },
  {
   "cell_type": "markdown",
   "id": "5c933e1a",
   "metadata": {},
   "source": [
    "**Problem 1d**\n",
    "\n",
    "Using the same model parameters as before, generate data sets of 100, 200, and 300 observations, and calculate the likelihood for each.\n",
    "\n",
    "*Hint* – do not use the same variable names (e.g., `x_obs`, `y_obs`, etc) that we used before; we do not want to over-write those variables."
   ]
  },
  {
   "cell_type": "code",
   "execution_count": null,
   "id": "4dbc41a2",
   "metadata": {},
   "outputs": [],
   "source": [
    "x_obs = rng.uniform(0, 10, n_obs)\n",
    "y_obs = rng.normal(3.14*x_obs + 6.626, 3)\n",
    "y_obs_unc = np.ones_like(y_obs)*3"
   ]
  },
  {
   "cell_type": "code",
   "execution_count": null,
   "id": "983d840c",
   "metadata": {},
   "outputs": [
    {
     "name": "stdout",
     "output_type": "stream",
     "text": [
      "The likelihood for 100 observations is 7.769122769272204e-114\n",
      "The likelihood for 200 observations is 5.154240581981437e-218\n",
      "The likelihood for 300 observations is 0.0\n"
     ]
    }
   ],
   "source": [
    "numbers = [100, 200, 300]\n",
    "for n_obs in numbers:# complete\n",
    "    probs = np.zeros(n_obs)\n",
    "    rng = np.random.default_rng(seed=2009)\n",
    "\n",
    "    x_sim = rng.uniform(0, 10, n_obs) # complete\n",
    "    y_sim = rng.normal(3.14 * x_sim + 6.626, 3)# complete\n",
    "    y_sim_unc = np.ones_like(y_sim) * 3# complete\n",
    "    y_true = 3.14*x_sim + 6.626\n",
    "\n",
    "    sigma = 3\n",
    "\n",
    "    probs = prob(y_sim, y_true, sigma)\n",
    "\n",
    "    lkhd = np.product(probs)\n",
    "\n",
    "    print(f'The likelihood for {n_obs} observations is {lkhd}')"
   ]
  },
  {
   "cell_type": "markdown",
   "id": "decaad10",
   "metadata": {},
   "source": [
    "300 observations is a small number! Gaia has observed more than 1 billion stars, and yet, with only 300 observations in an outrageously simple dataset, the likelihood is so small it is equivalent to 0 at machine precision. \n",
    "\n",
    "\n",
    "This is why it is always a good idea to work with the log of the likelihood, not only does this turn a product into a sum, more importantly, the calculations become far more stable on your machine. "
   ]
  },
  {
   "cell_type": "markdown",
   "id": "cbd49aa5",
   "metadata": {},
   "source": [
    "**Problem 1e**\n",
    "\n",
    "Write a function `lnl` that calculates the log likelihood for some observations, their uncertainties, and the model to which the observations are being compared. Assume that the likelihood is Gaussian.\n",
    "\n",
    "*Hint* – the `model` function that was created earlier should be inside the `lnl` function, this means that `theta` should be the first arguement for the `lnl` function.\n",
    "\n",
    "*Note* – likelihoods are calculated for comparison purposes, their absolute value does not have much meaning, so you can ignore constant terms for this function. "
   ]
  },
  {
   "cell_type": "code",
   "execution_count": 49,
   "id": "5fd02b14",
   "metadata": {},
   "outputs": [],
   "source": [
    "def lnl(theta, y_obs, y_obs_unc, x_obs):\n",
    "    n_obs = len(x_obs)\n",
    "    y_model = model(theta, x_obs)\n",
    "    xi_mu = ((y_obs - y_model)**2)/(2 * y_obs_unc**2)\n",
    "    lnl = -1 * n_obs/2 * np.log(1/(2*np.pi)) - sum(np.log(y_obs_unc)) - sum(xi_mu)\n",
    "    # complete\n",
    "    return lnl# complete"
   ]
  },
  {
   "cell_type": "code",
   "execution_count": 50,
   "id": "21438b0b",
   "metadata": {},
   "outputs": [],
   "source": [
    "n_obs = 100\n",
    "x_sim = rng.uniform(0, 10, n_obs) # complete\n",
    "y_sim = rng.normal(3.14 * x_sim + 6.626, 3)# complete\n",
    "y_sim_unc = np.ones_like(y_sim) * 3# complete"
   ]
  },
  {
   "cell_type": "code",
   "execution_count": 51,
   "id": "12595715",
   "metadata": {},
   "outputs": [
    {
     "data": {
      "text/plain": [
       "-282.97637214253575"
      ]
     },
     "execution_count": 51,
     "metadata": {},
     "output_type": "execute_result"
    }
   ],
   "source": [
    "lnl([3.14, 6.626], y_obs, y_obs_unc, x_obs)"
   ]
  },
  {
   "cell_type": "markdown",
   "id": "42537ae2",
   "metadata": {},
   "source": [
    "**Problem 1f**\n",
    "\n",
    "Using the same model parameters as before, generate data sets of 100, 200, and 300 observations, and calculate the *log likelihood* for each."
   ]
  },
  {
   "cell_type": "code",
   "execution_count": null,
   "id": "9f0ca305",
   "metadata": {},
   "outputs": [],
   "source": []
  },
  {
   "cell_type": "code",
   "execution_count": 52,
   "id": "b1864cdd",
   "metadata": {},
   "outputs": [
    {
     "name": "stdout",
     "output_type": "stream",
     "text": [
      "The ln likelihood for 100 observations is -1436.9015922064773\n",
      "The ln likelihood for 200 observations is -3154.8218522506736\n",
      "The ln likelihood for 300 observations is -4860.614835835576\n"
     ]
    }
   ],
   "source": [
    "for n_obs in [100, 200, 300]:\n",
    "\n",
    "    rng = np.random.default_rng(seed=2009)\n",
    "\n",
    "    x_sim = rng.uniform(0, 10, n_obs)\n",
    "    y_sim = rng.normal(3.14*x_sim + 6.626, 3)\n",
    "    y_sim_unc = np.ones_like(x_sim)*3\n",
    "\n",
    "    lnlike = lnl([3.14, 6.626], y_sim, y_sim_unc, x_sim)# complete\n",
    "\n",
    "    print(f'The ln likelihood for {n_obs} observations is {lnlike}')"
   ]
  },
  {
   "cell_type": "markdown",
   "id": "9387319f",
   "metadata": {},
   "source": [
    "## Problem 2) Maximizing the Likelihood\n",
    "\n",
    "It is all well and good to calculate the likelihood, but what we truly want is to maximize the likelihood. "
   ]
  },
  {
   "cell_type": "markdown",
   "id": "cf89bbbf",
   "metadata": {},
   "source": [
    "Most algorithms are designed to minimize, rather than optimize, a function. Fortunately, minimizing the negative log likelihood is the exact same as maximizing the log likelihood.\n",
    "\n",
    "**Problem 2a**\n",
    "\n",
    "Write a function `nll` to calculate the negative log likelihood. \n",
    "\n",
    "*Hint* – this is really simple, don't overthink it."
   ]
  },
  {
   "cell_type": "code",
   "execution_count": 53,
   "id": "5fc4174f",
   "metadata": {},
   "outputs": [],
   "source": [
    "def nll(theta, y_obs, y_obs_unc, x_obs):\n",
    "    return -lnl(theta, y_obs, y_obs_unc, x_obs)"
   ]
  },
  {
   "cell_type": "markdown",
   "id": "14819a1c",
   "metadata": {},
   "source": [
    "**Problem 2b**\n",
    "\n",
    "Using [`minimize`](https://docs.scipy.org/doc/scipy/reference/generated/scipy.optimize.minimize.html) from `scipy.optimize` determine the maximum likelihood estimation for the intercept and slope of the line that was used to generate the synthetic observations. \n",
    "\n",
    "*Hint* – for arguments `minimize` needs (1) a function, (2) an initial guess for the model parameters, which is why we've been using a tuple `theta`, and (3) a tuple containing the remaining arguments for the function to be minimized (i.e., the data/observations)."
   ]
  },
  {
   "cell_type": "code",
   "execution_count": 62,
   "id": "4fcc2d22",
   "metadata": {},
   "outputs": [
    {
     "name": "stdout",
     "output_type": "stream",
     "text": [
      "b = 7.7132 and m = 2.9943 for the MLE\n"
     ]
    }
   ],
   "source": [
    "res = minimize(fun=nll, x0=(3.14, 6.26), args=(y_sim, y_sim_unc, x_sim))# complete\n",
    "\n",
    "print(f'b = {res.x[0]:.4f} and m = {res.x[1]:.4f} for the MLE')"
   ]
  },
  {
   "cell_type": "markdown",
   "id": "65ee19e8",
   "metadata": {},
   "source": [
    "**Problem 2c**\n",
    "\n",
    "Overplot the line determined by the MLE on top of the synthetic data. \n",
    "\n",
    "How does the line compare to the true line used to generate the data?"
   ]
  },
  {
   "cell_type": "code",
   "execution_count": 63,
   "id": "2c83b1aa",
   "metadata": {},
   "outputs": [
    {
     "data": {
      "text/plain": [
       "array([2.11957756, 6.0145629 , 9.8581171 , 4.27471565, 3.35143378,\n",
       "       1.82724296, 6.7833394 , 2.95171399, 7.23483584, 1.07335863,\n",
       "       4.60039413, 2.43983596, 6.03385315, 8.30448989, 8.61882936,\n",
       "       7.96176466, 0.7292812 , 2.57076345, 6.53507532, 4.328288  ,\n",
       "       3.72414516, 5.19264411, 4.70336184, 6.57434944, 8.26938836,\n",
       "       6.61071207, 8.70818868, 4.84277607, 8.16130033, 3.55065666,\n",
       "       9.96804945, 2.60505038, 1.35116407, 9.60716938, 3.76924067,\n",
       "       1.47457424, 0.85080953, 4.98362714, 6.49087831, 4.62699447,\n",
       "       5.0839542 , 3.3163385 , 9.77886026, 4.36284716, 6.3398228 ,\n",
       "       1.29261361, 0.80155724, 4.1938164 , 4.89829227, 9.24987717,\n",
       "       0.9058403 , 2.21423068, 1.02471597, 3.57180728, 1.7587221 ,\n",
       "       0.08164882, 1.52968442, 7.77484827, 5.22375248, 1.13275065,\n",
       "       3.09839115, 0.30183603, 2.10091128, 3.49132056, 6.6598451 ,\n",
       "       7.32088918, 3.48048242, 2.51771553, 5.02029522, 9.84602725,\n",
       "       4.84151124, 1.05011734, 4.01240418, 2.90270184, 4.52547144,\n",
       "       4.03425248, 1.40423816, 3.21810413, 6.9100506 , 3.34787663,\n",
       "       5.55230631, 1.25665575, 2.13666419, 1.32063999, 8.94695363,\n",
       "       6.3400188 , 5.12892868, 2.20507659, 4.59274295, 4.7266017 ,\n",
       "       9.20325567, 3.35029304, 7.83084946, 2.77475677, 8.4417326 ,\n",
       "       7.5896778 , 0.19822244, 2.78944551, 9.70385121, 6.85264367,\n",
       "       4.94653228, 9.06933582, 3.49497711, 7.02413721, 3.43745584,\n",
       "       6.41671167, 8.35797054, 3.71904024, 2.44157647, 2.35698206,\n",
       "       1.98132318, 5.81919654, 5.7988542 , 4.00961796, 8.65924852,\n",
       "       0.39117472, 5.16940888, 6.31569021, 6.23357541, 0.6141058 ,\n",
       "       3.53005102, 1.59133757, 5.12304225, 0.23536458, 6.93776506,\n",
       "       3.40796833, 5.79906921, 5.87388573, 5.16028859, 7.18035333,\n",
       "       7.28793493, 6.23806916, 6.61391165, 8.02452828, 3.83765313,\n",
       "       8.48694437, 4.97619945, 8.49558022, 8.60001314, 4.14183451,\n",
       "       4.65263614, 6.99989879, 3.7325138 , 1.2191392 , 9.53287908,\n",
       "       8.3166636 , 4.98361579, 7.12283348, 8.87493917, 6.60038556,\n",
       "       7.81150664, 1.62326244, 2.10184936, 9.26304955, 2.01369798,\n",
       "       6.0864723 , 8.98516692, 6.15971153, 1.32649475, 4.64172407,\n",
       "       1.13590782, 4.85437344, 7.09284369, 1.11656775, 6.72583561,\n",
       "       7.58608999, 8.07520872, 1.40790383, 1.72185186, 5.11120162,\n",
       "       3.51388606, 2.42794091, 2.11049025, 8.13309006, 8.12999925,\n",
       "       5.92443737, 6.98157578, 8.0554943 , 0.46898543, 0.38977839,\n",
       "       5.79798882, 4.27390601, 3.52615175, 8.63774536, 2.69271847,\n",
       "       0.17563743, 8.49692512, 6.08054773, 6.20492026, 1.0990609 ,\n",
       "       8.89197681, 4.2891169 , 8.94158472, 8.3328682 , 0.29475162,\n",
       "       0.57706343, 8.79099386, 7.88328973, 2.89008724, 9.38163255,\n",
       "       9.47417077, 1.60471438, 8.45343931, 6.04676045, 9.45428942,\n",
       "       0.28463844, 3.1353287 , 8.91008697, 1.76601119, 4.43458952,\n",
       "       3.74472042, 6.4022644 , 2.41838807, 4.06194647, 8.33947333,\n",
       "       4.24937145, 7.78878226, 0.56093821, 8.55053731, 8.54240061,\n",
       "       8.92306707, 2.99110098, 5.11046852, 5.18036626, 1.02548263,\n",
       "       7.93191227, 7.7804507 , 0.11228364, 9.12878584, 0.74852489,\n",
       "       6.76506554, 8.30867405, 3.7815326 , 0.9108886 , 0.74854699,\n",
       "       0.65606917, 4.85363329, 5.57636864, 2.45353301, 0.79130084,\n",
       "       3.8121131 , 6.9248756 , 5.28536294, 8.3543012 , 0.06943368,\n",
       "       1.70818325, 2.60276183, 2.52609896, 1.75314804, 9.04235207,\n",
       "       2.71513845, 1.93646813, 2.84454001, 5.00170656, 9.54123042,\n",
       "       0.3173308 , 7.76219534, 7.07934809, 1.27320767, 1.64061852,\n",
       "       2.3367309 , 2.82823438, 9.04871578, 7.4520292 , 4.5960188 ,\n",
       "       2.28200931, 7.11718489, 9.34220922, 7.25434241, 6.77357298,\n",
       "       0.40875045, 5.99854534, 7.30666957, 9.05931989, 7.09260751,\n",
       "       9.04142454, 6.13696881, 6.22847272, 0.35154898, 4.91398635,\n",
       "       2.64196244, 6.00830511, 6.82647136, 5.08415594, 0.11843547,\n",
       "       2.95292652, 8.54502388, 0.64195304, 2.7940073 , 0.03161876,\n",
       "       8.76652057, 9.449432  , 1.80274977, 5.02656228, 4.90859918,\n",
       "       5.61206605, 6.46882005, 9.39146023, 6.083123  , 0.88860315])"
      ]
     },
     "execution_count": 63,
     "metadata": {},
     "output_type": "execute_result"
    }
   ],
   "source": [
    "x_sim"
   ]
  },
  {
   "cell_type": "code",
   "execution_count": 68,
   "id": "ab581526",
   "metadata": {},
   "outputs": [
    {
     "data": {
      "text/plain": [
       "7.713213521946134"
      ]
     },
     "execution_count": 68,
     "metadata": {},
     "output_type": "execute_result"
    }
   ],
   "source": [
    "res.x[0]"
   ]
  },
  {
   "cell_type": "code",
   "execution_count": 70,
   "id": "7551ed46",
   "metadata": {},
   "outputs": [
    {
     "data": {
      "image/png": "[encoded data removed]",
      "text/plain": [
       "<Figure size 640x480 with 1 Axes>"
      ]
     },
     "metadata": {},
     "output_type": "display_data"
    }
   ],
   "source": [
    "fig, ax = data_plot(x_obs, y_obs, y_obs_unc)\n",
    "ax.plot(x_sim, model([res.x[0], res.x[1]], x_sim), label = 'fitted model, minimize') # complete\n",
    "ax.plot(x_sim, y_true, label = 'True') # complete\n",
    "ax.legend()\n",
    "fig.tight_layout()"
   ]
  },
  {
   "cell_type": "markdown",
   "id": "de06bfb2",
   "metadata": {},
   "source": [
    "## Problem 3) Point estimates are nice, but...\n",
    "\n",
    "In lecture we did not cover how to estimate uncertainties on the model parameters. When using [`curve_fit`](https://docs.scipy.org/doc/scipy/reference/generated/scipy.optimize.curve_fit.html) in `scipy` analytic approximations to the shape of the likelihood are used to determine uncertainties on the model parameters. "
   ]
  },
  {
   "cell_type": "markdown",
   "id": "e1e3489e",
   "metadata": {},
   "source": [
    "These methods require that the data do not violate any of the underlying assumptions about the nature of the likelihood for a given problem. For this reason, I prefer to use the bootstrap method to estimate uncertainties on the MLE model parameters. \n",
    "\n",
    "Briefly, \"new\" data sets can be simulated via a bootstrap (randomly choosing a new data set from the observations with replacement) and then finding the MLE parameters again. This can be repeated many times to place confidence limits on the MLE estimates. "
   ]
  },
  {
   "cell_type": "markdown",
   "id": "f066bc76",
   "metadata": {},
   "source": [
    "**Problem 3a**\n",
    "\n",
    "Using [np.random.choice](https://numpy.org/doc/stable/reference/random/generated/numpy.random.choice.html) select a bootstrap sample from the observations and estimate the MLE model parameters. \n",
    "\n",
    "*Hint* – choose a random index so that the input x, y, and y_unc samples are all the same."
   ]
  },
  {
   "cell_type": "code",
   "execution_count": null,
   "id": "bc132681",
   "metadata": {},
   "outputs": [],
   "source": [
    "boot_idx = np.random.choice( # complete\n",
    "\n",
    "res = minimize(nll, (0,0), # complete\n",
    "\n",
    "print(f'theta0 = {res.x[0]:.4f} and theta1 = {res.x[1]:.4f} for the MLE')"
   ]
  },
  {
   "cell_type": "markdown",
   "id": "13cd4e7d",
   "metadata": {},
   "source": [
    "**Problem 3b**\n",
    "\n",
    "Create 100 bootstrap samples of the simulated observations and measure the MLE intercept and slope for each. \n",
    "\n",
    "Store the results in arrays called `theta0_boot` and `theta1_boot`."
   ]
  },
  {
   "cell_type": "code",
   "execution_count": null,
   "id": "b0cfc7e9",
   "metadata": {},
   "outputs": [],
   "source": [
    "n_boot = 100\n",
    "theta0_boot = np.zeros(n_boot)\n",
    "theta1_boot = np.zeros_like(theta0_boot)\n",
    "\n",
    "for idx in range(n_boot):\n",
    "    boot_idx = # complete\n",
    "    res = # complete\n",
    "    theta0_boot[idx] = # complete\n",
    "    theta1_boot[idx] = # complete"
   ]
  },
  {
   "cell_type": "markdown",
   "id": "91bf19f4",
   "metadata": {},
   "source": [
    "**Problem 3c**\n",
    "\n",
    "The 68% confidence interval on $\\theta_0$ (or $\\theta_1$) is just the central 68% of the bootstrap distribution for the parameter.\n",
    "\n",
    "Use `np.percentile()` to determine the 68% C.I. on $\\theta_0$ and $\\theta_1$. Do these estimates bracket the true values used to generate the data? "
   ]
  },
  {
   "cell_type": "code",
   "execution_count": null,
   "id": "646b07e3",
   "metadata": {},
   "outputs": [],
   "source": [
    "print('The 68% C.I. on b is {:.4f} to {:.4f}'.format(*np.percentile(theta1_boot, # complete\n",
    "\n",
    "print('The 68% C.I. on m is {:.4f} to {:.4f}'.format(*np.percentile(theta0_boot, # complete\n"
   ]
  },
  {
   "cell_type": "markdown",
   "id": "ef65b258",
   "metadata": {},
   "source": [
    "*write your answer here*"
   ]
  },
  {
   "cell_type": "markdown",
   "id": "79ee4a5f",
   "metadata": {},
   "source": [
    "**Problem 3d**\n",
    "\n",
    "What about correlations between the model parameters? \n",
    "\n",
    "Plot the 2d histogram of `theta0_boot` and `theta1_boot` to see if the estimates are correlated. "
   ]
  },
  {
   "cell_type": "code",
   "execution_count": null,
   "id": "61bf4161",
   "metadata": {},
   "outputs": [],
   "source": [
    "fig, ax = plt.subplots()\n",
    "\n",
    "cax = ax.hist2d( # complete\n",
    "fig.colorbar(cax[3])\n",
    "fig.tight_layout()"
   ]
  },
  {
   "cell_type": "markdown",
   "id": "a96c7bc6",
   "metadata": {},
   "source": [
    "## Problem 4) Model Selection\n",
    "\n",
    "During lecture we saw two potential methods for selecting between different models. The first was using the $\\chi^2_\\mathrm{dof}$ and the second was AIC. We will briefly examine each below. "
   ]
  },
  {
   "cell_type": "markdown",
   "id": "ed75442f",
   "metadata": {},
   "source": [
    "**Problem 4a** \n",
    "\n",
    "Plot the simulated data in the cell below. "
   ]
  },
  {
   "cell_type": "code",
   "execution_count": null,
   "id": "5b16c606",
   "metadata": {},
   "outputs": [],
   "source": [
    "n_obs = 23\n",
    "rng = np.random.default_rng(seed=1851)\n",
    "x_obs = rng.uniform(0, 10, n_obs)\n",
    "y_obs = rng.normal(7.89*np.sin(2*np.pi*x_obs/23) + 0.4*x_obs, 1)\n",
    "y_obs_unc = np.ones_like(y_obs)*1\n",
    "\n",
    "fig, ax = data_plot(x_obs, y_obs, y_obs_unc)\n",
    "fig.tight_layout()"
   ]
  },
  {
   "cell_type": "markdown",
   "id": "da4a4d2e",
   "metadata": {},
   "source": [
    "**Problem 4b**\n",
    "\n",
    "Modify the function `model` from **1a** to accept a tuple of any length and return a polynomial of degree `len(theta)`-1. (This will allow us to compare polynomials of different degree in these problems)"
   ]
  },
  {
   "cell_type": "code",
   "execution_count": null,
   "id": "6b22c417",
   "metadata": {},
   "outputs": [],
   "source": [
    "def model(theta, x):\n",
    "    '''\n",
    "    Return dependent variable values for polynomial\n",
    "    \n",
    "    Parameters\n",
    "    ----------\n",
    "    theta : tuple\n",
    "        coefficients for a polynomial of degree len(theta)-1\n",
    "    \n",
    "    x : array-like\n",
    "        values of the independent variable where f(x) should be evaluated\n",
    "    '''\n",
    "    \n",
    "    f_x = 0\n",
    "    for c_num, coeff in enumerate(theta):\n",
    "        f_x += coeff*x**c_num\n",
    "    \n",
    "    return # complete"
   ]
  },
  {
   "cell_type": "markdown",
   "id": "5d4fc7b9",
   "metadata": {},
   "source": [
    "**Problem 4c**\n",
    "\n",
    "Write a function `chi2dof` to calculate the $\\chi^2_\\mathrm{dof}$ for a polynomial model. The inputs should be `theta`, as well as the observations and their uncertainties. \n",
    "\n",
    "*Hint* – the solution will be dependent upon functions created in the previous problems. "
   ]
  },
  {
   "cell_type": "code",
   "execution_count": null,
   "id": "b3cd7a94",
   "metadata": {},
   "outputs": [],
   "source": [
    "def chi2dof(theta, y_obs, y_obs_unc, x_obs): \n",
    "    \n",
    "    res = # complete\n",
    "\n",
    "    dof = # complete\n",
    "    \n",
    "    chi2 = # complete\n",
    "    \n",
    "    return chi2/dof"
   ]
  },
  {
   "cell_type": "markdown",
   "id": "789b2bfd",
   "metadata": {},
   "source": [
    "**Problem 4d**\n",
    "\n",
    "Fit a first, second, and fifth order polynomial to the observations. \n",
    "\n",
    "Which model is \"best\" based on the $\\chi^2_\\mathrm{dof}$?\n",
    "\n",
    "Bonus points - overplot the MLE models on top of the data (you may need to modify `chi2dof` in order to do this easily)."
   ]
  },
  {
   "cell_type": "code",
   "execution_count": null,
   "id": "02c8f88a",
   "metadata": {},
   "outputs": [],
   "source": [
    "for order in [1, 2, 5]:\n",
    "    # complete\n",
    "    print('The chi2 for {}th degree polynomial is: {}'.format( # complete\n",
    "    \n"
   ]
  },
  {
   "cell_type": "markdown",
   "id": "21e8a87d",
   "metadata": {},
   "source": [
    "*write your response here*\n"
   ]
  },
  {
   "cell_type": "markdown",
   "id": "9bdbada1",
   "metadata": {},
   "source": [
    "## Problem 5) Numerical stability\n",
    "\n",
    "Polynomials are often used for examples on numerical methods, but nature often provides more complex relations (exponentials, periodicity, power-laws, etc) between the quantities that we can measure. We will examine how that affects MLE."
   ]
  },
  {
   "cell_type": "markdown",
   "id": "51f0b4b7",
   "metadata": {},
   "source": [
    "**Problem 5a**\n",
    "\n",
    "Execute the cell below to simulate an exponentially declining signal that has a small \"bump\" at $x = 5$:\n",
    "\n",
    "$$f(x) = A \\exp(-x) - B\\;(x - C)^2 \\exp(-(x - C)^2)$$\n",
    "\n",
    "where for this problem $A = 8$, $B = 15$ and $C = 5$. \n",
    "\n",
    "*Note* – there is no specific physical system that inspires this data, but you can find examples that look somewhat like this (e.g., an emission line in astronomical spectra or a resonance line in high-energy particle detectors). "
   ]
  },
  {
   "cell_type": "code",
   "execution_count": null,
   "id": "b60a178c",
   "metadata": {},
   "outputs": [],
   "source": [
    "n_obs = 55\n",
    "rng = np.random.default_rng(seed=1851)\n",
    "x_obs = rng.uniform(0, 10, n_obs)\n",
    "y_obs = rng.normal(8*np.exp(-x_obs) - 15*(x_obs-5)**2*np.exp(-(x_obs-5)**2), 1)\n",
    "y_obs_unc = np.ones_like(y_obs)*1\n",
    "\n",
    "fig, ax = data_plot(x_obs, y_obs, y_obs_unc)\n",
    "# ax.set_yscale('log')\n",
    "fig.tight_layout()"
   ]
  },
  {
   "cell_type": "markdown",
   "id": "2086842c",
   "metadata": {},
   "source": [
    "**Problem 5b**\n",
    "\n",
    "Modify the function `model` to fit the declining exponential function $f(x)$ given in **5a**."
   ]
  },
  {
   "cell_type": "code",
   "execution_count": null,
   "id": "a563f8fd",
   "metadata": {},
   "outputs": [],
   "source": [
    "def model(theta, x):\n",
    "    '''\n",
    "    Return dependent variable values for polynomial\n",
    "    \n",
    "    Parameters\n",
    "    ----------\n",
    "    theta : tuple (size = 3)\n",
    "        A, B, C values for the exponential function A np.exp(-x) - B*(x - C)**2 * np.exp(-(x - C)**2)\n",
    "    \n",
    "    x : array-like\n",
    "        values of the independent variable where f(x) should be evaluated\n",
    "    '''\n",
    "    \n",
    "    # complete\n",
    "        \n",
    "    \n",
    "    return # complete"
   ]
  },
  {
   "cell_type": "markdown",
   "id": "7bb55174",
   "metadata": {},
   "source": [
    "**Problem 5c**\n",
    "\n",
    "Find the maximum likelihood solution given the observations `y_obs` and `y_obs_unc`. Use an intial guess in your call to `nll` of (1, 1, 1). \n",
    "\n",
    "Are your results close to the correct answer?"
   ]
  },
  {
   "cell_type": "code",
   "execution_count": null,
   "id": "1b50b008",
   "metadata": {},
   "outputs": [],
   "source": [
    "res = # complete\n",
    "\n",
    "print('A = {:.4f}, B = {:.4f}, C = {:.4f}'.format(*res.x))"
   ]
  },
  {
   "cell_type": "markdown",
   "id": "c25ab228",
   "metadata": {},
   "source": [
    "*write your answer here*"
   ]
  },
  {
   "cell_type": "markdown",
   "id": "4c1b5081",
   "metadata": {},
   "source": [
    "**Problem 5d**\n",
    "\n",
    "Find the maximum likelihood solution given the observations `y_obs` and `y_obs_unc`. Use an intial guess in your call to `nll` of (20, 20, 20). \n",
    "\n",
    "Are your results close to the correct answer?"
   ]
  },
  {
   "cell_type": "code",
   "execution_count": null,
   "id": "60e47b56",
   "metadata": {},
   "outputs": [],
   "source": [
    "res = # complete\n",
    "\n",
    "print('A = {:.4f}, B = {:.4f}, C = {:.4f}'.format(*res.x))"
   ]
  },
  {
   "cell_type": "markdown",
   "id": "137e3748",
   "metadata": {},
   "source": [
    "*write your answer here*\n"
   ]
  },
  {
   "cell_type": "markdown",
   "id": "40def175",
   "metadata": {},
   "source": [
    "Here we have identified one of the problems with MLE (though to be fair, there are similar issues if you are conducting a Bayesian analysis): there is no guarantee that the minimization algorithm that is being used will identify a global minimum. The results that the algorithm obtains can be highly dependent upon the starting position for the minimizer or even the method used to perform the minimization."
   ]
  },
  {
   "cell_type": "markdown",
   "id": "d3d31892",
   "metadata": {},
   "source": [
    "**Problem 5e**\n",
    "\n",
    "Consult the docs for `minimize` and adjust parameters relative to the defaults, but the same starting point as **5d** (20,20,20), to arrive at a better solution for the values of $A$, $B$, and $C$. "
   ]
  },
  {
   "cell_type": "code",
   "execution_count": null,
   "id": "34cc8a54",
   "metadata": {},
   "outputs": [],
   "source": [
    "res = # complete\n",
    "\n",
    "print('A = {:.4f}, B = {:.4f}, C = {:.4f}'.format(*res.x))"
   ]
  },
  {
   "cell_type": "markdown",
   "id": "e6e3374b",
   "metadata": {},
   "source": [
    "## Challenge Problem) Improved Model Selection"
   ]
  },
  {
   "cell_type": "markdown",
   "id": "5a24cee1",
   "metadata": {},
   "source": [
    "In lecture we saw that the AIC could be used as a model selection technique. \n",
    "\n",
    "As a reminder: \n",
    "\n",
    "$$\\mathrm{AIC} \\equiv -2 \\ln \\mathcal{L} + 2k + \\frac{2k(k+1)}{N - k -1},$$\n",
    "\n",
    "where $N$ is the number of observations, $k$ is the number of model parameters, and models with the smallest AIC are preffered. "
   ]
  },
  {
   "cell_type": "markdown",
   "id": "164d6f33",
   "metadata": {},
   "source": [
    "**Challenge 0a**\n",
    "\n",
    "For the data simulated in the previous problem – calculate the AIC for polynomials of degree 1 through 10. \n",
    "\n",
    "Plot the AIC as a function of polynomial degree. According to the AIC, which model best replicates the observations? \n",
    "\n",
    "Do you notice anything interesting about your results?"
   ]
  },
  {
   "cell_type": "code",
   "execution_count": null,
   "id": "1049dba3",
   "metadata": {},
   "outputs": [],
   "source": [
    "# complete"
   ]
  }
 ],
 "metadata": {
  "kernelspec": {
   "display_name": "DSFP",
   "language": "python",
   "name": "python3"
  },
  "language_info": {
   "codemirror_mode": {
    "name": "ipython",
    "version": 3
   },
   "file_extension": ".py",
   "mimetype": "text/x-python",
   "name": "python",
   "nbconvert_exporter": "python",
   "pygments_lexer": "ipython3",
   "version": "3.8.20"
  }
 },
 "nbformat": 4,
 "nbformat_minor": 5
}
